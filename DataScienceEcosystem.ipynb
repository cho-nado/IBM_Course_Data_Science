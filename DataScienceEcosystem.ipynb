{
 "cells": [
  {
   "cell_type": "markdown",
   "id": "6eae5bf7-2b6b-4513-a002-8bef2516969d",
   "metadata": {},
   "source": [
    "# Data Science Tools and Ecosystem"
   ]
  },
  {
   "cell_type": "markdown",
   "id": "d94e275b-4342-4bc1-aa54-8436b8baa533",
   "metadata": {},
   "source": [
    "In this notebook, Data Science Tools and Ecosystem are summarized."
   ]
  },
  {
   "cell_type": "markdown",
   "id": "836e8154-b15c-4ba3-878b-4469490bd981",
   "metadata": {},
   "source": [
    "**Objectives:**\n",
    "* List popular languages for Data Science;\n",
    "* List popular labraries for Data Science;\n",
    "* List pupular tools for Data Science.\n"
   ]
  },
  {
   "cell_type": "markdown",
   "id": "990f0096-1c17-4314-a194-8836068fb605",
   "metadata": {},
   "source": [
    "Some of the popular languages that Data Scientists use are:\n",
    "1. Python\n",
    "2. R\n",
    "3. SQL"
   ]
  },
  {
   "cell_type": "markdown",
   "id": "1ebdd8f1-3d33-490e-aa2a-8eab32690f11",
   "metadata": {},
   "source": [
    "Some of the commonly used libraries used by Data Scientists include:\n",
    "1. Pandas (Python)\n",
    "2. NymPy (Python)\n",
    "3. TensorFlow\n",
    "4. Matplotlib"
   ]
  },
  {
   "cell_type": "markdown",
   "id": "af54d7c6-8087-4fad-b495-9b0c50ec736a",
   "metadata": {},
   "source": [
    "| Data Science Tools |\n",
    "| -------- |\n",
    "| Jupyter Notebook (Lab) |\n",
    "| RStudio |\n",
    "| GitHub |"
   ]
  },
  {
   "cell_type": "markdown",
   "id": "d093614b-874e-41b8-addf-9c9eef697f88",
   "metadata": {},
   "source": [
    "### Below are a few examples of evaluating arithmetic expressions in Python\n",
    "\n",
    "2 + 2 = 5\n",
    "\n",
    "2 * 2 = 5"
   ]
  },
  {
   "cell_type": "code",
   "execution_count": 3,
   "id": "9cb6dea7-94bc-406b-ad9a-bf2a452237a6",
   "metadata": {},
   "outputs": [
    {
     "data": {
      "text/plain": [
       "17"
      ]
     },
     "execution_count": 3,
     "metadata": {},
     "output_type": "execute_result"
    }
   ],
   "source": [
    "# This a simple arithmetic expression to mutiply then add integers\n",
    "(3*4)+5"
   ]
  },
  {
   "cell_type": "code",
   "execution_count": 5,
   "id": "d41d9ae1-b4e9-4702-916a-cbc18a82f9c1",
   "metadata": {},
   "outputs": [
    {
     "data": {
      "text/plain": [
       "3"
      ]
     },
     "execution_count": 5,
     "metadata": {},
     "output_type": "execute_result"
    }
   ],
   "source": [
    "# This will convert 200 minutes to hours by diving by 60\n",
    "a = 60 #min in one hour\n",
    "b = 200 #min that you want to convert\n",
    "c = b//60 #integer value of hour from a variable b\n",
    "c"
   ]
  },
  {
   "cell_type": "markdown",
   "id": "51741dd6-0acb-49be-9880-c6a10494c487",
   "metadata": {},
   "source": [
    "## Author\n",
    "Ilia"
   ]
  },
  {
   "cell_type": "code",
   "execution_count": null,
   "id": "efe5cef7-2784-4a62-a792-014a048aa7d7",
   "metadata": {},
   "outputs": [],
   "source": []
  }
 ],
 "metadata": {
  "kernelspec": {
   "display_name": "Python 3 (ipykernel)",
   "language": "python",
   "name": "python3"
  },
  "language_info": {
   "codemirror_mode": {
    "name": "ipython",
    "version": 3
   },
   "file_extension": ".py",
   "mimetype": "text/x-python",
   "name": "python",
   "nbconvert_exporter": "python",
   "pygments_lexer": "ipython3",
   "version": "3.12.1"
  }
 },
 "nbformat": 4,
 "nbformat_minor": 5
}
